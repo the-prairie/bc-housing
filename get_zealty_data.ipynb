{
 "metadata": {
  "language_info": {
   "codemirror_mode": {
    "name": "ipython",
    "version": 3
   },
   "file_extension": ".py",
   "mimetype": "text/x-python",
   "name": "python",
   "nbconvert_exporter": "python",
   "pygments_lexer": "ipython3",
   "version": "3.9.1"
  },
  "orig_nbformat": 2,
  "kernelspec": {
   "name": "python391jvsc74a57bd00ee6251e63c49f62a449bef0e8a2fcbf503fa9e5bd3e5cb1e4be683334b0f358",
   "display_name": "Python 3.9.1 64-bit ('cdnreal': venv)"
  }
 },
 "nbformat": 4,
 "nbformat_minor": 2,
 "cells": [
  {
   "cell_type": "code",
   "execution_count": 15,
   "metadata": {},
   "outputs": [],
   "source": [
    "from requests import Request, Session\n",
    "from requests.exceptions import ConnectionError, Timeout , TooManyRedirects\n",
    "import json\n",
    "import pandas as pd\n",
    "from bs4 import BeautifulSoup\n",
    "\n",
    "import os"
   ]
  },
  {
   "cell_type": "code",
   "execution_count": null,
   "metadata": {},
   "outputs": [],
   "source": []
  },
  {
   "cell_type": "code",
   "execution_count": 50,
   "metadata": {},
   "outputs": [],
   "source": [
    "request_data = {\n",
    "  \"data\": {\n",
    "    \"sql\": \"SELECT * FROM *** WHERE (latitude BETWEEN 48.921210099417074 AND 50.19498684365154) AND (longitude BETWEEN -126.62231315131015 AND -124.46899283881015) AND (latitude <> 0 AND longitude <> 0) AND ((propertyClassCode = 0) OR (propertyClassCode = 1 AND type = 'Apartment') OR (propertyClassCode = 1 AND type <> 'Apartment') OR (propertyClassCode = 3) OR (propertyClassCode = 4) OR (propertyClassCode = 2)) AND reciprocityOK = 0 ORDER BY GREATEST(listingDate, listingPricePrevDate) DESC LIMIT 500\",\n",
    "    \"sold\": \"\",\n",
    "    \"s\": \"9d73137076f0125acd5e05bc40fe3422\"\n",
    "    },\n",
    "\"file\": \"courtney_1.json\"\n",
    "}"
   ]
  },
  {
   "cell_type": "code",
   "execution_count": 51,
   "metadata": {},
   "outputs": [
    {
     "output_type": "stream",
     "name": "stdout",
     "text": [
      "<Response [200]>\n"
     ]
    }
   ],
   "source": [
    "\n",
    "url = 'https://bcrealestatemap.ca/svcFetchDB.php'\n",
    "headers = {\"Host\": \"bcrealestatemap.ca\",\n",
    "            \"User-Agent\": \"Mozilla/5.0 (Macintosh; Intel Mac OS X 10_15_7) AppleWebKit/537.36 (KHTML, like Gecko) Chrome/88.0.4324.192 Safari/537.36\",\n",
    "            \"Accept\": \"*/*\",\n",
    "            \"Accept-Language\": \"en-US,en;q=0.9\",\n",
    "            \"Accept-Encoding\": \"gzip, deflate, br\",\n",
    "            \"Content-Type\": \"application/x-www-form-urlencoded\",\n",
    "            \"Content-Length\": \"403\",\n",
    "            \"Origin\": \"https://www.zealty.ca\",\n",
    "            \"Connection\": \"keep-alive\",\n",
    "            \"Referer\": \"https://www.zealty.ca/\",\n",
    "            \"Sec-Fetch-Dest\": \"empty\",\n",
    "            \"Sec-Fetch-Mode\": \"cors\",\n",
    "            \"Sec-Fetch-Site\": \"cross-site\"\n",
    "\n",
    "           }\n",
    "\n",
    "def makeRequest(url, headers, data=data):\n",
    "\n",
    "    session = Session()\n",
    "    session.headers.update(headers)\n",
    "\n",
    "    try:\n",
    "        response = session.post(url, data=data)\n",
    "        print(response)\n",
    "        #data = pd.DataFrame(json.loads(response.text))\n",
    "        return response\n",
    "\n",
    "\n",
    "\n",
    "    except (ConnectionError, Timeout, TooManyRedirects) as e:\n",
    "        print(e)\n",
    "\n",
    "\n",
    "df = makeRequest(url, headers, request_data.get('data'))\n",
    "\n",
    "soup = BeautifulSoup(df.content,'html.parser')\n",
    "\n",
    "with open(os.path.join('./data/', request_data.get('file')), 'w') as f:\n",
    "    json.dump(df.json(), f)\n",
    "\n",
    "with open(os.path.join('./requests/','request_' + request_data.get('file')), 'w') as f:\n",
    "    json.dump(request_data, f)\n",
    "\n"
   ]
  },
  {
   "cell_type": "code",
   "execution_count": null,
   "metadata": {},
   "outputs": [],
   "source": []
  }
 ]
}